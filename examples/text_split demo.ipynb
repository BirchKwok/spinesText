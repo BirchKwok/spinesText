{
 "cells": [
  {
   "cell_type": "code",
   "execution_count": 1,
   "metadata": {
    "collapsed": true
   },
   "outputs": [],
   "source": [
    "import sys\n",
    "sys.path.insert(0, '..')"
   ]
  },
  {
   "cell_type": "code",
   "execution_count": 2,
   "outputs": [],
   "source": [
    "from spines_text.preprocess import TextCutWords\n",
    "from spines_text.datasets import LoadSDYXZ"
   ],
   "metadata": {
    "collapsed": false,
    "pycharm": {
     "name": "#%%\n"
    }
   }
  },
  {
   "cell_type": "code",
   "execution_count": 3,
   "outputs": [],
   "source": [
    "tcw = TextCutWords()"
   ],
   "metadata": {
    "collapsed": false,
    "pycharm": {
     "name": "#%%\n"
    }
   }
  },
  {
   "cell_type": "code",
   "execution_count": 4,
   "outputs": [],
   "source": [
    "shediao = LoadSDYXZ()"
   ],
   "metadata": {
    "collapsed": false,
    "pycharm": {
     "name": "#%%\n"
    }
   }
  },
  {
   "cell_type": "code",
   "execution_count": 5,
   "outputs": [],
   "source": [
    "shediao_words = tcw.text_to_words(shediao.data)"
   ],
   "metadata": {
    "collapsed": false,
    "pycharm": {
     "name": "#%%\n"
    }
   }
  },
  {
   "cell_type": "code",
   "execution_count": 13,
   "outputs": [],
   "source": [
    "shediao_text = tcw.text_to_text(shediao.data, join_sep=' ')"
   ],
   "metadata": {
    "collapsed": false,
    "pycharm": {
     "name": "#%%\n"
    }
   }
  },
  {
   "cell_type": "code",
   "execution_count": 14,
   "outputs": [
    {
     "data": {
      "text/plain": "['射雕 英雄传 金庸',\n '第一回',\n '风雪 惊变',\n '钱塘江 浩浩 江水 日日夜夜 无穷 无休 的 从 临安 牛家村 边 绕过 东 流入 海',\n '江畔 一排 数十',\n '株 乌 柏树 叶子 似 火烧 般红 正是 八月 天时',\n '村前村后 的 野草 刚 起始 变黄 一抹 斜阳 映照 之',\n '下 更 增 了 几分 萧索',\n '两株 大 松树 下 围着 一堆 村民 男男女女 和 十几个 小孩 正自 聚精会神',\n '的 听 着 一个 瘦削 的 老者 说话',\n '那 说话 人 五十 来 岁 年纪 一件 青布 长袍 早洗 得 褪成 了 蓝灰色',\n '只 听 他 两片 梨花 木板 碰 了 几下 左手 中 竹棒 在 一面 小 羯鼓 上 敲起 得 得 连声',\n '唱道',\n '小桃 无主自 开花 烟草 茫茫 带 晚鸦',\n '几处 败垣围 故井 向来 一一 是 人家',\n '那 说话 人 将 木板 敲 了 几下 说道',\n '这首 七言诗 说 的 是 兵火 过后 原来 的 家家户户',\n '都 变成 了 断 墙 残瓦 的 破败 之地',\n '小人 刚才 说 到 那 叶老汉 一家 四口 悲欢离合 聚 了 又 散散',\n '了 又 聚',\n '他四人 给 金兵 冲散 好容易 又 再 团聚 欢天喜地 的 回到 故乡 却 见 房屋 已 给 金兵 烧',\n '得 干干净净 无可奈何 只得 去 到 汴梁 想 觅 个 生计',\n '不 料想',\n '天有不测风云 人有旦夕 祸',\n '福',\n '他四人 刚进 汴梁 城 迎面 便 过来 一队 金兵',\n '带兵 的 头儿 一双 三角 眼觑 将 过去 见 那叶 三',\n '姐生 得 美貌 跳 下马 来 当即 一把 抱住 哈哈大笑 便 将 她 放上 了 马鞍 说道',\n '小姑娘',\n '跟 我 回家 服侍 老爷',\n '那 叶三姐 如何 肯 从',\n '拚命 挣扎',\n '那金兵 长官 喝道',\n '你 不肯 从 我',\n '便 杀 了 你 的 父母 兄弟',\n '提起 狼牙棒 一 棒打 在 那 叶三郎 的 头上 登时 脑浆 迸裂 一命鸣',\n '呼',\n '正是',\n '阴世 新添 枉死鬼 阳间 不见 少年人',\n '叶老汉 和 妈妈 吓 得 呆 了 扑 将 上去 搂住 了 儿子 的 死尸 放声大哭',\n '那 长官 提起 狼牙',\n '棒 一棒 一个 又 都 了 帐',\n '那 叶三姐 却 不 啼哭 说道',\n '长官 休 得 凶恶 我 跟 你 回家 便',\n '了',\n '那 长官 大喜 将 叶三姐 带得 回家',\n '不料 叶三姐 觑 他 不防 突然 抢步 过去 拔出 那 长官',\n '的 腰刀 对准 了 他 心口 一刀 刺 将 过去 说时迟那时快 这 一刀 刺去 眼见 便 可报 得 父母',\n '兄弟 的 大仇',\n '不料 那 长官 久经 战阵 武艺 精熟 顺手 一推 叶三姐 登时 摔 了 出去',\n '那 长官 刚',\n '骂 得 一声',\n '小 贱人',\n '叶三姐 已 举起 钢刀 在 脖子 中一勒',\n '可怜 她',\n '花容月貌 无双 女 惆怅 芳魂 赴 九泉',\n '他 说 一段 唱 一段 只 听 得 众 村民 无不 咬牙切齿 愤怒 叹息',\n '那人 又 道',\n '众 位 看官',\n '常言道 得 好',\n '为 人 切莫 用 欺心 举头 三尺 有 神明',\n '若 还 作恶 无 报应 天下 凶徒 人吃人',\n '可是 那金兵 占 了 我 大宋 天下 杀人放火 奸淫掳掠 无恶不作 却 又 不见 他 遭到 什么',\n '报应',\n '只怪 我 大宋 官家 不争气 我 中国 本来 兵多将广 可是 一 见到 金兵 到来 便 远远 的 逃 之',\n '夭夭 只 剩下 老百姓 遭殃',\n '好似 那 叶三姐 一家 的 惨祸',\n '江北 之地 实是 成千成万 便 如 家常',\n '便饭 一般',\n '诸君 住 在 江南 当真 是 在 天堂 里 了 怕只怕 金兵 何日 到来',\n '正是',\n '宁作 太平 犬',\n '莫为 乱世 人',\n '小人 张十五 今日 路经 贵 地 服侍 众 位 看官 这 一段 说话 叫作 叶三姐 节烈',\n '记',\n '话本 说彻 权作 散场',\n '将 两片 梨花 木板 拍 拍拍 的 乱 敲 一阵 托出 一只 盘子',\n '众 村民',\n '便 有人 拿出 两文 三文 放入 木盘 霎时间 得 了 六七十 文',\n '张十五 谢 了 将 铜钱 放入 囊中 便',\n '欲 起行',\n '村民 中 走出 一个二十 来 岁 的 大汉 说道',\n '张 先生 你 可是 从 北方 来 吗',\n '张十五',\n '见 他 身材 魁梧 浓眉大眼 便 道',\n '正是',\n '那 大汉 道',\n '小弟 作东 请 先生 去 饮 上 三杯 如',\n '何',\n '张 十五大 喜 说道',\n '素不相识 怎敢 叨扰',\n '那 大汉 笑 道',\n '喝上 三杯 那 便 相识',\n '了',\n '我姓 郭 名叫 郭啸天',\n '指着 身旁 一个 白净 面皮 的 汉子 道',\n '这位 是 杨铁心 杨兄弟',\n '适',\n '才 我 二人 听 先生 说唱 叶三姐 节烈 记 果然 是 说得好 却 有 几句话 想要 请问',\n '张 十五道']"
     },
     "execution_count": 14,
     "metadata": {},
     "output_type": "execute_result"
    }
   ],
   "source": [
    "shediao_text[:100]"
   ],
   "metadata": {
    "collapsed": false,
    "pycharm": {
     "name": "#%%\n"
    }
   }
  },
  {
   "cell_type": "code",
   "execution_count": null,
   "outputs": [],
   "source": [],
   "metadata": {
    "collapsed": false,
    "pycharm": {
     "name": "#%%\n"
    }
   }
  },
  {
   "cell_type": "code",
   "execution_count": null,
   "outputs": [],
   "source": [],
   "metadata": {
    "collapsed": false,
    "pycharm": {
     "name": "#%%\n"
    }
   }
  },
  {
   "cell_type": "code",
   "execution_count": null,
   "outputs": [],
   "source": [],
   "metadata": {
    "collapsed": false,
    "pycharm": {
     "name": "#%%\n"
    }
   }
  },
  {
   "cell_type": "code",
   "execution_count": null,
   "outputs": [],
   "source": [],
   "metadata": {
    "collapsed": false,
    "pycharm": {
     "name": "#%%\n"
    }
   }
  },
  {
   "cell_type": "code",
   "execution_count": null,
   "outputs": [],
   "source": [],
   "metadata": {
    "collapsed": false,
    "pycharm": {
     "name": "#%%\n"
    }
   }
  },
  {
   "cell_type": "code",
   "execution_count": null,
   "outputs": [],
   "source": [],
   "metadata": {
    "collapsed": false,
    "pycharm": {
     "name": "#%%\n"
    }
   }
  }
 ],
 "metadata": {
  "kernelspec": {
   "display_name": "Python 3",
   "language": "python",
   "name": "python3"
  },
  "language_info": {
   "codemirror_mode": {
    "name": "ipython",
    "version": 2
   },
   "file_extension": ".py",
   "mimetype": "text/x-python",
   "name": "python",
   "nbconvert_exporter": "python",
   "pygments_lexer": "ipython2",
   "version": "2.7.6"
  }
 },
 "nbformat": 4,
 "nbformat_minor": 0
}