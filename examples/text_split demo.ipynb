{
 "cells": [
  {
   "cell_type": "code",
   "execution_count": 1,
   "metadata": {
    "ExecuteTime": {
     "end_time": "2021-12-19T05:03:24.445349Z",
     "start_time": "2021-12-19T05:03:24.440592Z"
    }
   },
   "outputs": [],
   "source": [
    "import sys\n",
    "sys.path.insert(0, '..')\n",
    "\n",
    "import pprint\n",
    "print_p = lambda s, w: pprint.pprint(s, width=w)"
   ]
  },
  {
   "cell_type": "code",
   "execution_count": 2,
   "metadata": {
    "ExecuteTime": {
     "end_time": "2021-12-19T05:03:25.414213Z",
     "start_time": "2021-12-19T05:03:25.190129Z"
    },
    "pycharm": {
     "name": "#%%\n"
    }
   },
   "outputs": [],
   "source": [
    "from spinesText.preprocess import TextCutWords\n",
    "from spinesText.datasets import LoadSDYXZ"
   ]
  },
  {
   "cell_type": "code",
   "execution_count": 3,
   "metadata": {
    "ExecuteTime": {
     "end_time": "2021-12-19T05:03:26.947100Z",
     "start_time": "2021-12-19T05:03:26.943954Z"
    },
    "pycharm": {
     "name": "#%%\n"
    }
   },
   "outputs": [],
   "source": [
    "tcw = TextCutWords()"
   ]
  },
  {
   "cell_type": "code",
   "execution_count": 4,
   "metadata": {
    "ExecuteTime": {
     "end_time": "2021-12-19T05:03:27.737609Z",
     "start_time": "2021-12-19T05:03:27.726000Z"
    },
    "pycharm": {
     "name": "#%%\n"
    }
   },
   "outputs": [],
   "source": [
    "shediao = LoadSDYXZ()"
   ]
  },
  {
   "cell_type": "code",
   "execution_count": 5,
   "metadata": {
    "ExecuteTime": {
     "end_time": "2021-12-19T05:03:28.416678Z",
     "start_time": "2021-12-19T05:03:28.414591Z"
    },
    "pycharm": {
     "name": "#%%\n"
    }
   },
   "outputs": [
    {
     "name": "stdout",
     "output_type": "stream",
     "text": [
      "'《射雕英雄传》金庸\\n\\n\\n第一回 风雪惊变\\n\\n    \\t\\t\\n\\n    钱塘江浩浩江水，日日夜夜无穷无休的从临安牛家村边绕过，东流入海。江畔一排数十\\n\\n    株乌柏树，叶子似火烧般红，正是八月天时。村前村后的野草刚起始变黄，一抹斜阳映照之\\n\\n    下，更增了几分萧索。两株大松树下围着一堆村民，男男女女和十几个小孩，正自聚精会神\\n\\n    的听着一个瘦削的老者说话。那说话人五十来岁年纪，一件青布长袍早洗得褪成了蓝灰色。\\n\\n    只听他两片梨花木板碰了几下，左手中竹棒在一面小羯鼓上敲起得得连声。唱道：\\n\\n    “小桃无主自开花，烟草茫茫带晚鸦。几处败垣围故井，向来一一是人家。”\\n\\n    那说话人将木板敲了几下，说道：“这首七言诗，说的是兵火过后，原来的家家户户，\\n\\n    都变成了断墙残瓦的破败之地。小人刚才说到那叶老汉一家四口，悲欢离合，聚了又散，散\\n\\n    了又聚。他四人给金兵冲散，好容易又再团聚，欢天喜地的回到故乡，却见房屋已给金兵烧\\n\\n    得干干净净，无可奈何，只得去到汴梁，想觅个生计。不料想：天有不测风云，人有旦夕祸\\n\\n    福。他四人刚进汴梁城，迎面便过来一队金兵。带兵的头儿一双三角眼觑将过去，见那叶三\\n\\n    姐生得美貌，跳下马来，当即一把抱住，哈哈大笑，便将她放上了马鞍，说道：‘小姑娘，\\n\\n    跟我回家，服侍老爷。’那叶三姐如何肯从？拚命挣扎。那金兵长官喝道：‘你不肯从我，\\n\\n    便杀了你的父母兄弟！’提起狼牙棒，一棒打在那叶三郎的头上，登时脑浆迸裂，一命鸣\\n\\n    呼。正是：\\n\\n    阴世新添枉死鬼，阳间不见少年人！\\n\\n    “叶老汉和妈妈吓得呆了，扑将上去，搂住了儿子的死尸，放声大哭。那长官提起狼牙\\n\\n    棒，一棒一个，又都了帐。那叶三姐却不啼哭，说道：‘长官休得凶恶，我跟你回家便\\n\\n    了！’那长官大喜，将叶三姐带得回家。不料叶三姐觑他不防，突然抢步过去，拔出那长官\\n\\n    的腰刀，对准了他心口，一刀刺将过去，说时迟，那时快，这一刀刺去，眼见便可报得父母\\n\\n    兄弟的大仇。不料那长官久经战阵，武艺精熟，顺手一推，叶三姐登时摔了出去。那长官刚\\n\\n    骂得一声：‘小贱人！’叶三姐已举起钢刀，在脖子中一勒。可怜她：\\n\\n    花容月貌无双女，惆怅芳魂赴九泉。”\\n\\n    他说一段，唱一段，只听得众村民无不咬'\n"
     ]
    }
   ],
   "source": [
    "print_p(shediao.data[:1000], 2000)"
   ]
  },
  {
   "cell_type": "code",
   "execution_count": 6,
   "metadata": {
    "ExecuteTime": {
     "end_time": "2021-12-19T05:03:31.200867Z",
     "start_time": "2021-12-19T05:03:29.344048Z"
    },
    "pycharm": {
     "name": "#%%\n"
    }
   },
   "outputs": [],
   "source": [
    "shediao_words = tcw.text_to_words(shediao.data, sen_sep_re = '。?!？！(……)：，(...)')"
   ]
  },
  {
   "cell_type": "code",
   "execution_count": 7,
   "metadata": {
    "ExecuteTime": {
     "end_time": "2021-12-19T05:03:31.205897Z",
     "start_time": "2021-12-19T05:03:31.202275Z"
    },
    "pycharm": {
     "name": "#%%\n"
    }
   },
   "outputs": [
    {
     "name": "stdout",
     "output_type": "stream",
     "text": [
      "[['射雕', '英雄传', '金庸', '第一回', '风雪', '惊变', '钱塘江', '浩浩', '江水'],\n",
      " ['日日夜夜', '无穷', '无休', '的', '从', '临安', '牛家村', '边', '绕过'],\n",
      " ['东', '流入', '海'],\n",
      " ['江畔', '一排', '数十株', '乌', '柏树'],\n",
      " ['叶子', '似', '火烧', '般红'],\n",
      " ['正是', '八月', '天时'],\n",
      " ['村前村后', '的', '野草', '刚', '起始', '变黄'],\n",
      " ['一抹', '斜阳', '映照', '之下'],\n",
      " ['更增', '了', '几分', '萧索'],\n",
      " ['两株', '大', '松树', '下', '围着', '一堆', '村民'],\n",
      " ['男男女女', '和', '十几个', '小孩'],\n",
      " ['正自', '聚精会神', '的', '听', '着', '一个', '瘦削', '的', '老者', '说话'],\n",
      " ['那', '说话', '人', '五十', '来', '岁', '年纪'],\n",
      " ['一件', '青布', '长袍', '早洗', '得', '褪成', '了', '蓝灰色'],\n",
      " ['只', '听', '他', '两片', '梨花', '木板', '碰', '了', '几下'],\n",
      " ['左手', '中', '竹棒', '在', '一面', '小', '羯鼓', '上', '敲起', '得', '得', '连声'],\n",
      " ['唱道'],\n",
      " ['小桃', '无主自', '开花'],\n",
      " ['烟草', '茫茫', '带', '晚鸦'],\n",
      " ['几处', '败垣围', '故井']]\n"
     ]
    }
   ],
   "source": [
    "print_p(shediao_words[:20], 200)"
   ]
  },
  {
   "cell_type": "code",
   "execution_count": 8,
   "metadata": {
    "ExecuteTime": {
     "end_time": "2021-12-19T05:03:33.474264Z",
     "start_time": "2021-12-19T05:03:31.206834Z"
    },
    "pycharm": {
     "name": "#%%\n"
    }
   },
   "outputs": [],
   "source": [
    "shediao_text = tcw.text_to_text(shediao.data, join_sep=' ', sen_sep_re = '。?!？！(……)：，(...)')"
   ]
  },
  {
   "cell_type": "code",
   "execution_count": 9,
   "metadata": {
    "ExecuteTime": {
     "end_time": "2021-12-19T05:03:33.478789Z",
     "start_time": "2021-12-19T05:03:33.475553Z"
    },
    "pycharm": {
     "name": "#%%\n"
    }
   },
   "outputs": [
    {
     "name": "stdout",
     "output_type": "stream",
     "text": [
      "['射雕 英雄传 金庸 第一回 风雪 惊变 钱塘江 浩浩 江水',\n",
      " '日日夜夜 无穷 无休 的 从 临安 牛家村 边 绕过',\n",
      " '东 流入 海',\n",
      " '江畔 一排 数十株 乌 柏树',\n",
      " '叶子 似 火烧 般红',\n",
      " '正是 八月 天时',\n",
      " '村前村后 的 野草 刚 起始 变黄',\n",
      " '一抹 斜阳 映照 之下',\n",
      " '更增 了 几分 萧索',\n",
      " '两株 大 松树 下 围着 一堆 村民',\n",
      " '男男女女 和 十几个 小孩',\n",
      " '正自 聚精会神 的 听 着 一个 瘦削 的 老者 说话',\n",
      " '那 说话 人 五十 来 岁 年纪',\n",
      " '一件 青布 长袍 早洗 得 褪成 了 蓝灰色',\n",
      " '只 听 他 两片 梨花 木板 碰 了 几下',\n",
      " '左手 中 竹棒 在 一面 小 羯鼓 上 敲起 得 得 连声',\n",
      " '唱道',\n",
      " '小桃 无主自 开花',\n",
      " '烟草 茫茫 带 晚鸦',\n",
      " '几处 败垣围 故井']\n"
     ]
    }
   ],
   "source": [
    "print_p(shediao_text[:20], 200)"
   ]
  },
  {
   "cell_type": "code",
   "execution_count": null,
   "metadata": {
    "pycharm": {
     "name": "#%%\n"
    }
   },
   "outputs": [],
   "source": []
  },
  {
   "cell_type": "code",
   "execution_count": null,
   "metadata": {
    "pycharm": {
     "name": "#%%\n"
    }
   },
   "outputs": [],
   "source": []
  },
  {
   "cell_type": "code",
   "execution_count": null,
   "metadata": {
    "pycharm": {
     "name": "#%%\n"
    }
   },
   "outputs": [],
   "source": []
  },
  {
   "cell_type": "code",
   "execution_count": null,
   "metadata": {
    "pycharm": {
     "name": "#%%\n"
    }
   },
   "outputs": [],
   "source": []
  },
  {
   "cell_type": "code",
   "execution_count": null,
   "metadata": {
    "pycharm": {
     "name": "#%%\n"
    }
   },
   "outputs": [],
   "source": []
  },
  {
   "cell_type": "code",
   "execution_count": null,
   "metadata": {
    "pycharm": {
     "name": "#%%\n"
    }
   },
   "outputs": [],
   "source": []
  }
 ],
 "metadata": {
  "kernelspec": {
   "display_name": "Python 3 (ipykernel)",
   "language": "python",
   "name": "python3"
  },
  "language_info": {
   "codemirror_mode": {
    "name": "ipython",
    "version": 3
   },
   "file_extension": ".py",
   "mimetype": "text/x-python",
   "name": "python",
   "nbconvert_exporter": "python",
   "pygments_lexer": "ipython3",
   "version": "3.8.12"
  },
  "toc": {
   "base_numbering": 1,
   "nav_menu": {},
   "number_sections": true,
   "sideBar": true,
   "skip_h1_title": false,
   "title_cell": "Table of Contents",
   "title_sidebar": "Contents",
   "toc_cell": false,
   "toc_position": {},
   "toc_section_display": true,
   "toc_window_display": false
  }
 },
 "nbformat": 4,
 "nbformat_minor": 1
}